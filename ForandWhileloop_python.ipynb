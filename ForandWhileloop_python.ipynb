{
 "cells": [
  {
   "cell_type": "markdown",
   "id": "e80cd0e2",
   "metadata": {},
   "source": [
    "### For Loop"
   ]
  },
  {
   "cell_type": "code",
   "execution_count": 1,
   "id": "8210dbd2",
   "metadata": {},
   "outputs": [
    {
     "data": {
      "text/plain": [
       "5"
      ]
     },
     "execution_count": 1,
     "metadata": {},
     "output_type": "execute_result"
    }
   ],
   "source": [
    "numbers=[1,2]\n",
    "sum_=0\n",
    "\n",
    "for num in numbers:\n",
    "    sum_=sum_+num**2\n",
    "    \n",
    "sum_"
   ]
  },
  {
   "cell_type": "code",
   "execution_count": 3,
   "id": "bbb2d90c",
   "metadata": {},
   "outputs": [
    {
     "data": {
      "text/plain": [
       "25"
      ]
     },
     "execution_count": 3,
     "metadata": {},
     "output_type": "execute_result"
    }
   ],
   "source": [
    "numbers=[3,4]\n",
    "sum_=0\n",
    "\n",
    "for num in numbers:\n",
    "    sum_=sum_+num**2\n",
    "    \n",
    "sum_"
   ]
  },
  {
   "cell_type": "code",
   "execution_count": 4,
   "id": "a3911e3b",
   "metadata": {},
   "outputs": [
    {
     "data": {
      "text/plain": [
       "40"
      ]
     },
     "execution_count": 4,
     "metadata": {},
     "output_type": "execute_result"
    }
   ],
   "source": [
    "numbers=[1,2,3,1,5]\n",
    "sum_=0\n",
    "\n",
    "for num in numbers:\n",
    "    sum_=sum_+num**2\n",
    "    \n",
    "sum_"
   ]
  },
  {
   "cell_type": "code",
   "execution_count": 11,
   "id": "ffde3ae9",
   "metadata": {},
   "outputs": [
    {
     "name": "stdout",
     "output_type": "stream",
     "text": [
      "Apple\n",
      "Banana\n",
      "Cherry\n"
     ]
    }
   ],
   "source": [
    "fruits=[\"Apple\",\"Banana\",\"Cherry\"]\n",
    "for fruit in fruits:\n",
    "    \n",
    "    print(fruit)"
   ]
  },
  {
   "cell_type": "code",
   "execution_count": 12,
   "id": "20642105",
   "metadata": {},
   "outputs": [
    {
     "name": "stdout",
     "output_type": "stream",
     "text": [
      "S\n",
      "h\n",
      "e\n",
      "e\n",
      "l\n",
      "a\n"
     ]
    }
   ],
   "source": [
    "for letter in \"Sheela\":\n",
    "    print(letter)"
   ]
  },
  {
   "cell_type": "code",
   "execution_count": 13,
   "id": "d02bb6ad",
   "metadata": {},
   "outputs": [
    {
     "name": "stdout",
     "output_type": "stream",
     "text": [
      "0\n",
      "1\n",
      "2\n",
      "3\n",
      "4\n"
     ]
    }
   ],
   "source": [
    "for i in range(5):\n",
    "    print(i)"
   ]
  },
  {
   "cell_type": "code",
   "execution_count": 14,
   "id": "ed8e547f",
   "metadata": {},
   "outputs": [
    {
     "name": "stdout",
     "output_type": "stream",
     "text": [
      "0\n",
      "1\n",
      "2\n",
      "3\n",
      "4\n",
      "5\n",
      "6\n",
      "7\n",
      "8\n",
      "9\n",
      "10\n",
      "11\n",
      "12\n",
      "13\n",
      "14\n"
     ]
    }
   ],
   "source": [
    "for i in range(15):\n",
    "    print(i)"
   ]
  },
  {
   "cell_type": "code",
   "execution_count": 15,
   "id": "d9bbb4e4",
   "metadata": {},
   "outputs": [
    {
     "name": "stdout",
     "output_type": "stream",
     "text": [
      "G\n",
      "r\n",
      "a\n",
      "c\n",
      "e\n"
     ]
    }
   ],
   "source": [
    "for letter in \"Grace\":\n",
    "    print(letter)"
   ]
  },
  {
   "cell_type": "code",
   "execution_count": 16,
   "id": "265818c4",
   "metadata": {},
   "outputs": [
    {
     "name": "stdout",
     "output_type": "stream",
     "text": [
      "R\n",
      "a\n",
      "v\n",
      "i\n"
     ]
    }
   ],
   "source": [
    "for letter in \"Ravi\":\n",
    "    print(letter)"
   ]
  },
  {
   "cell_type": "code",
   "execution_count": 21,
   "id": "0e27a57d",
   "metadata": {},
   "outputs": [
    {
     "name": "stdout",
     "output_type": "stream",
     "text": [
      "1\n",
      "3\n",
      "15\n",
      "120\n",
      "1080\n"
     ]
    }
   ],
   "source": [
    "x=[1,3,5,8,9]\n",
    "product=1\n",
    "for i in x:\n",
    "    product=product*i\n",
    "    \n",
    "    print(product)"
   ]
  },
  {
   "cell_type": "markdown",
   "id": "8bcc6e21",
   "metadata": {},
   "source": [
    "### product should be initialise with 1\n"
   ]
  },
  {
   "cell_type": "code",
   "execution_count": 22,
   "id": "1565e1fd",
   "metadata": {},
   "outputs": [
    {
     "data": {
      "text/plain": [
       "5"
      ]
     },
     "execution_count": 22,
     "metadata": {},
     "output_type": "execute_result"
    }
   ],
   "source": [
    "numbers=[1,2]\n",
    "s=0\n",
    "\n",
    "for value in numbers:\n",
    "    s=s+value**2\n",
    "   \n",
    "s"
   ]
  },
  {
   "cell_type": "code",
   "execution_count": 24,
   "id": "78595c4b",
   "metadata": {},
   "outputs": [
    {
     "ename": "TypeError",
     "evalue": "list indices must be integers or slices, not tuple",
     "output_type": "error",
     "traceback": [
      "\u001b[1;31m---------------------------------------------------------------------------\u001b[0m",
      "\u001b[1;31mTypeError\u001b[0m                                 Traceback (most recent call last)",
      "Cell \u001b[1;32mIn[24], line 1\u001b[0m\n\u001b[1;32m----> 1\u001b[0m numbers[\u001b[38;5;241m2\u001b[39m,\u001b[38;5;241m5\u001b[39m]\n\u001b[0;32m      2\u001b[0m sum_\u001b[38;5;241m=\u001b[39m\u001b[38;5;241m0\u001b[39m\n\u001b[0;32m      4\u001b[0m \u001b[38;5;28;01mfor\u001b[39;00m x \u001b[38;5;129;01min\u001b[39;00m numbers:\n",
      "\u001b[1;31mTypeError\u001b[0m: list indices must be integers or slices, not tuple"
     ]
    }
   ],
   "source": [
    "numbers[2,5]\n",
    "sum_=0\n",
    "\n",
    "for x in numbers:\n",
    "    sum_=sum_+x**2\n",
    "   \n",
    "sum_"
   ]
  },
  {
   "cell_type": "code",
   "execution_count": 25,
   "id": "03e8c1fc",
   "metadata": {},
   "outputs": [
    {
     "data": {
      "text/plain": [
       "29"
      ]
     },
     "execution_count": 25,
     "metadata": {},
     "output_type": "execute_result"
    }
   ],
   "source": [
    "numbers=[2,5]\n",
    "s=0\n",
    "\n",
    "for value in numbers:\n",
    "    s=s+value**2\n",
    "   \n",
    "s"
   ]
  },
  {
   "cell_type": "code",
   "execution_count": 27,
   "id": "9b964492",
   "metadata": {},
   "outputs": [
    {
     "data": {
      "text/plain": [
       "29"
      ]
     },
     "execution_count": 27,
     "metadata": {},
     "output_type": "execute_result"
    }
   ],
   "source": [
    "numbers=[2,5]\n",
    "sum_=0\n",
    "\n",
    "for x in numbers:\n",
    "    sum_=sum_+x**2\n",
    "   \n",
    "sum_"
   ]
  },
  {
   "cell_type": "code",
   "execution_count": 28,
   "id": "0316217d",
   "metadata": {},
   "outputs": [
    {
     "ename": "TypeError",
     "evalue": "list indices must be integers or slices, not tuple",
     "output_type": "error",
     "traceback": [
      "\u001b[1;31m---------------------------------------------------------------------------\u001b[0m",
      "\u001b[1;31mTypeError\u001b[0m                                 Traceback (most recent call last)",
      "Cell \u001b[1;32mIn[28], line 1\u001b[0m\n\u001b[1;32m----> 1\u001b[0m numbers[\u001b[38;5;241m3\u001b[39m,\u001b[38;5;241m9\u001b[39m]\n\u001b[0;32m      2\u001b[0m sum_\u001b[38;5;241m=\u001b[39m\u001b[38;5;241m0\u001b[39m\n\u001b[0;32m      4\u001b[0m \u001b[38;5;28;01mfor\u001b[39;00m y \u001b[38;5;129;01min\u001b[39;00m numbers:\n",
      "\u001b[1;31mTypeError\u001b[0m: list indices must be integers or slices, not tuple"
     ]
    }
   ],
   "source": [
    "numbers[3,9]\n",
    "sum_=0\n",
    "\n",
    "for y in numbers:\n",
    "    sum_=sum_+y**2\n",
    "   \n",
    "sum_"
   ]
  },
  {
   "cell_type": "code",
   "execution_count": 29,
   "id": "1e75c206",
   "metadata": {},
   "outputs": [
    {
     "data": {
      "text/plain": [
       "90"
      ]
     },
     "execution_count": 29,
     "metadata": {},
     "output_type": "execute_result"
    }
   ],
   "source": [
    "numbers=[3,9]\n",
    "sum_=0\n",
    "\n",
    "for y in numbers:\n",
    "    sum_=sum_+y**2\n",
    "   \n",
    "sum_"
   ]
  },
  {
   "cell_type": "code",
   "execution_count": 30,
   "id": "22f1b58a",
   "metadata": {},
   "outputs": [
    {
     "name": "stdout",
     "output_type": "stream",
     "text": [
      "5\n"
     ]
    }
   ],
   "source": [
    "numbers=[1,5]\n",
    "product=1\n",
    "\n",
    "for y in numbers:\n",
    "    product=product*y\n",
    "    \n",
    "print(product)\n",
    "    \n",
    "    "
   ]
  },
  {
   "cell_type": "code",
   "execution_count": 33,
   "id": "3babbfe0",
   "metadata": {},
   "outputs": [
    {
     "name": "stdout",
     "output_type": "stream",
     "text": [
      "171\n"
     ]
    }
   ],
   "source": [
    "numbers=[9,19]\n",
    "product=1\n",
    "\n",
    "for z in numbers:\n",
    "    product=product*z\n",
    "    \n",
    "print(product)   \n"
   ]
  },
  {
   "cell_type": "code",
   "execution_count": 34,
   "id": "4ac059a5",
   "metadata": {},
   "outputs": [
    {
     "data": {
      "text/plain": [
       "171"
      ]
     },
     "execution_count": 34,
     "metadata": {},
     "output_type": "execute_result"
    }
   ],
   "source": [
    "9*19"
   ]
  },
  {
   "cell_type": "code",
   "execution_count": 35,
   "id": "1fb4b160",
   "metadata": {},
   "outputs": [
    {
     "name": "stdout",
     "output_type": "stream",
     "text": [
      "3.0\n"
     ]
    }
   ],
   "source": [
    "numbers=[27]\n",
    "cube=1/3\n",
    "\n",
    "for y in numbers:\n",
    "    cube=cube*1/3*y\n",
    "    \n",
    "print(cube)    \n",
    "    "
   ]
  },
  {
   "cell_type": "code",
   "execution_count": 36,
   "id": "70724620",
   "metadata": {},
   "outputs": [
    {
     "name": "stdout",
     "output_type": "stream",
     "text": [
      "32\n"
     ]
    }
   ],
   "source": [
    "numbers=[2,4,5,6,7,8]\n",
    "sum_=0\n",
    "\n",
    "for y in numbers:\n",
    "    sum_=sum_+y\n",
    "    \n",
    "print(sum_)    \n",
    "    \n",
    "    "
   ]
  },
  {
   "cell_type": "code",
   "execution_count": 37,
   "id": "c7ab2549",
   "metadata": {},
   "outputs": [
    {
     "data": {
      "text/plain": [
       "32"
      ]
     },
     "execution_count": 37,
     "metadata": {},
     "output_type": "execute_result"
    }
   ],
   "source": [
    "2+4+5+6+7+8"
   ]
  },
  {
   "cell_type": "code",
   "execution_count": 38,
   "id": "392ee007",
   "metadata": {},
   "outputs": [
    {
     "name": "stdout",
     "output_type": "stream",
     "text": [
      "100.0\n"
     ]
    }
   ],
   "source": [
    "numbers=[900]\n",
    "cube=1/3\n",
    "\n",
    "for y in numbers:\n",
    "    cube=cube*1/3*y\n",
    "    \n",
    "print(cube)    \n",
    " \n",
    "    "
   ]
  },
  {
   "cell_type": "code",
   "execution_count": 39,
   "id": "22b3b011",
   "metadata": {},
   "outputs": [
    {
     "name": "stdout",
     "output_type": "stream",
     "text": [
      "Apple\n",
      "Banana\n",
      "Cherry\n"
     ]
    }
   ],
   "source": [
    "fruits=[\"Apple\",\"Banana\",\"Cherry\"]\n",
    "for fruit in fruits:\n",
    "    print(fruit)"
   ]
  },
  {
   "cell_type": "code",
   "execution_count": 40,
   "id": "715349c0",
   "metadata": {},
   "outputs": [
    {
     "name": "stdout",
     "output_type": "stream",
     "text": [
      "S\n",
      "h\n",
      "e\n",
      "e\n",
      "l\n",
      "a\n"
     ]
    }
   ],
   "source": [
    "for letter in \"Sheela\":\n",
    "    print(letter)"
   ]
  },
  {
   "cell_type": "code",
   "execution_count": 42,
   "id": "4fb714b6",
   "metadata": {},
   "outputs": [
    {
     "name": "stdout",
     "output_type": "stream",
     "text": [
      "Onion\n",
      "Raddish\n",
      "Cucumber\n",
      "Capsicum\n"
     ]
    }
   ],
   "source": [
    "vegetables=[\"Onion\",\"Raddish\",\"Cucumber\",\"Capsicum\"]\n",
    "for eatables in vegetables:\n",
    "    print(eatables)"
   ]
  },
  {
   "cell_type": "code",
   "execution_count": 43,
   "id": "0215dc75",
   "metadata": {},
   "outputs": [
    {
     "name": "stdout",
     "output_type": "stream",
     "text": [
      "0\n",
      "1\n",
      "2\n",
      "3\n",
      "4\n",
      "5\n",
      "6\n",
      "7\n",
      "8\n",
      "9\n",
      "10\n",
      "11\n",
      "12\n",
      "13\n",
      "14\n",
      "15\n",
      "16\n",
      "17\n",
      "18\n",
      "19\n",
      "20\n",
      "21\n",
      "22\n",
      "23\n",
      "24\n",
      "25\n",
      "26\n",
      "27\n",
      "28\n"
     ]
    }
   ],
   "source": [
    "for i in range(29):\n",
    "    print(i)"
   ]
  },
  {
   "cell_type": "code",
   "execution_count": 44,
   "id": "252f99d0",
   "metadata": {},
   "outputs": [
    {
     "name": "stdout",
     "output_type": "stream",
     "text": [
      "4\n",
      "3\n",
      "2\n",
      "1\n",
      "0\n"
     ]
    }
   ],
   "source": [
    "for i in reversed(range(5)):\n",
    "    print(i)"
   ]
  },
  {
   "cell_type": "code",
   "execution_count": 46,
   "id": "ce9b6dee",
   "metadata": {},
   "outputs": [
    {
     "name": "stdout",
     "output_type": "stream",
     "text": [
      "480\n"
     ]
    }
   ],
   "source": [
    "x=[1,3,5,8,4]\n",
    "product=1\n",
    "\n",
    "for num in x:\n",
    "    product=product*num\n",
    "    \n",
    "print(product)   \n"
   ]
  },
  {
   "cell_type": "code",
   "execution_count": 47,
   "id": "0aff4602",
   "metadata": {},
   "outputs": [
    {
     "data": {
      "text/plain": [
       "480"
      ]
     },
     "execution_count": 47,
     "metadata": {},
     "output_type": "execute_result"
    }
   ],
   "source": [
    "1*3*5*8*4"
   ]
  },
  {
   "cell_type": "code",
   "execution_count": 48,
   "id": "23d07995",
   "metadata": {},
   "outputs": [
    {
     "name": "stdout",
     "output_type": "stream",
     "text": [
      "The cube root of 125 is:5.0\n"
     ]
    }
   ],
   "source": [
    "numbers=125\n",
    "cube_root=numbers**(1/3)\n",
    "print(f\"The cube root of {numbers} is:{cube_root}\")"
   ]
  },
  {
   "cell_type": "code",
   "execution_count": 50,
   "id": "a22e5749",
   "metadata": {},
   "outputs": [
    {
     "name": "stdout",
     "output_type": "stream",
     "text": [
      "[3, 5, 6, 8, 4, 5, 7, 8, 10, 6]\n"
     ]
    }
   ],
   "source": [
    "my_list=[3,5,6,8,4]\n",
    "\n",
    "for num in range(len(my_list)):\n",
    "    my_list.append(my_list[num]+2)\n",
    "print(my_list)    "
   ]
  },
  {
   "cell_type": "code",
   "execution_count": 52,
   "id": "0358e970",
   "metadata": {},
   "outputs": [
    {
     "name": "stdout",
     "output_type": "stream",
     "text": [
      "[2, 3, 4, 5, 4, 5, 6, 7]\n"
     ]
    }
   ],
   "source": [
    "list=[2,3,4,5]\n",
    "\n",
    "for num in range(len(list)):\n",
    "    list.append(list[num]+2)\n",
    "    \n",
    "print(list)    \n",
    "    "
   ]
  },
  {
   "cell_type": "code",
   "execution_count": null,
   "id": "ec709be8",
   "metadata": {},
   "outputs": [],
   "source": []
  }
 ],
 "metadata": {
  "kernelspec": {
   "display_name": "Python 3 (ipykernel)",
   "language": "python",
   "name": "python3"
  },
  "language_info": {
   "codemirror_mode": {
    "name": "ipython",
    "version": 3
   },
   "file_extension": ".py",
   "mimetype": "text/x-python",
   "name": "python",
   "nbconvert_exporter": "python",
   "pygments_lexer": "ipython3",
   "version": "3.11.5"
  }
 },
 "nbformat": 4,
 "nbformat_minor": 5
}
